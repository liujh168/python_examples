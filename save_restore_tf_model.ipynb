{
 "cells": [
  {
   "cell_type": "code",
   "execution_count": 5,
   "metadata": {},
   "outputs": [
    {
     "name": "stdout",
     "output_type": "stream",
     "text": [
      "mydata_m:0\n",
      "mydata_b:0\n"
     ]
    }
   ],
   "source": [
    "# 保存模型\n",
    "\n",
    "import tensorflow as tf\n",
    "import numpy as np\n",
    "\n",
    "m = tf.Variable([[1., 2.],[3., 4.]], name = 'mydata_m')\n",
    "b = tf.Variable([[5., 6.],[7., 7.]], name = 'mydata_b')\n",
    "#np = tf.constant(np.arange(1, 13, dtype=np.int32),shape=[3,4])\n",
    "init=tf.global_variables_initializer()\n",
    "#saver = tf.train.Saver(savable_variables, max_to_keep=n, keep_checkpoint_every_n_hours=m)\n",
    "saver = tf.train.Saver()\n",
    "sess = tf.Session()\n",
    "sess.run(init)\n",
    "#print(sess.run(m))\n",
    "print(m.name)\n",
    "print(b.name)\n",
    "#saver.save(sess, 'model_name', global_step=step,write_meta_graph=False)\n",
    "saver.save(sess,\"c:/liujh168.ckpt\")\n",
    "sess.close()"
   ]
  },
  {
   "cell_type": "code",
   "execution_count": 17,
   "metadata": {},
   "outputs": [
    {
     "name": "stdout",
     "output_type": "stream",
     "text": [
      "INFO:tensorflow:Restoring parameters from c:/ljh.ckpt\n",
      "Tensor(\"mydata_m:0\", shape=(2, 2), dtype=float32_ref) Tensor(\"mydata_b:0\", shape=(2, 2), dtype=float32_ref)\n",
      "[[1. 2.]\n",
      " [3. 4.]]\n",
      "this is from model saved!\n",
      "[[5. 6.]\n",
      " [7. 7.]]\n"
     ]
    }
   ],
   "source": [
    "import tensorflow as tf\n",
    "import numpy as np\n",
    "\n",
    "saver = tf.train.import_meta_graph('c:/liujh16.ckpt.meta')   # 将模型定义的graph加载进来\n",
    "#saver.restore(sess, os.path.join(path, 'model.ckpt-1000')) #\n",
    "\n",
    "#使用Restore的模型\n",
    "sess = tf.Session()\n",
    "\n",
    "saver.restore(sess, tf.train.latest_checkpoint('c:/'))   #加载指定文件夹下最近保存的一个模型的数据\n",
    "\n",
    "m = tf.get_default_graph().get_tensor_by_name('mydata_m:0')\n",
    "b = tf.get_default_graph().get_tensor_by_name('mydata_b:0')\n",
    "print(m, b)\n",
    "#print(sess.run([m, b]))\n",
    "print(sess.run(m))\n",
    "print(\"this is from model saved!\")\n",
    "print(sess.run(b))\n",
    "\n",
    "stopm = tf.stop_gradient('mydata_m:0')  #将模型的一部分进行冻结\n",
    "\n",
    "\n",
    "#vs = [v for v in tf.trainable_variables()]\n",
    "#vs = [v for v in tf.global_variables()]\n",
    "#for v in vs:\n",
    "#    print(v)\n",
    "#    print(v.name)\n",
    "#    print(sess.run(v))\n",
    "    \n",
    "#ops = [o for o in sess.graph.get_operations()]\n",
    "#for o in ops:\n",
    "#    print(o.name)\n",
    "\n",
    "sess.close()"
   ]
  },
  {
   "cell_type": "code",
   "execution_count": null,
   "metadata": {},
   "outputs": [],
   "source": []
  }
 ],
 "metadata": {
  "kernelspec": {
   "display_name": "Python 3",
   "language": "python",
   "name": "python3"
  },
  "language_info": {
   "codemirror_mode": {
    "name": "ipython",
    "version": 3
   },
   "file_extension": ".py",
   "mimetype": "text/x-python",
   "name": "python",
   "nbconvert_exporter": "python",
   "pygments_lexer": "ipython3",
   "version": "3.6.4"
  }
 },
 "nbformat": 4,
 "nbformat_minor": 2
}
